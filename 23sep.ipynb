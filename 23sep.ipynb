{
 "cells": [
  {
   "cell_type": "markdown",
   "metadata": {},
   "source": [
    "#### Oops (Obect Oriented Programming languge)\n",
    "* Python is also a Obect Oriented Programming languge.\n",
    "* To develop applications using an oops approach.\n",
    "* In python we can easily create and use classes add objects.\n",
    "* Oops is to design the program using classes and objects.\n",
    "* oops concept focusess on writing the reusable code.\n",
    "##### Major principles off oops in python\n",
    "* classes\n",
    "* objects\n",
    "* constructor\n",
    "* Inheritance\n",
    "\n",
    "\n",
    "**class**\n",
    "* It can be defines as a collection of objects.It is a local  entity that has some specific attributes and methods.\n",
    "* **syntax**\n",
    "        class classname():\n",
    "            list of vars\n",
    "            list of methods\n",
    "  * **class** ---->keyword\n",
    "  * **classname**---->name of the class\n",
    "* Ex:class emp()\n",
    "    * emp class,then it contains attributes and methods i.e. an emaild,name,sal,des,etc....\n",
    "* Method:if function is existed inside the class then it called method.\n",
    "* function: collection of statements.\n",
    "* classname name starts with uppercase"
   ]
  },
  {
   "cell_type": "code",
   "execution_count": 3,
   "metadata": {},
   "outputs": [],
   "source": [
    "class Hii():\n",
    "    n1=\"abc\"\n",
    "    rno=28\n",
    "    def hello():\n",
    "        print(\"welcome all\")"
   ]
  },
  {
   "cell_type": "code",
   "execution_count": 35,
   "metadata": {},
   "outputs": [
    {
     "name": "stdout",
     "output_type": "stream",
     "text": [
      "['__class__', '__delattr__', '__dict__', '__dir__', '__doc__', '__eq__', '__format__', '__ge__', '__getattribute__', '__gt__', '__hash__', '__init__', '__init_subclass__', '__le__', '__lt__', '__module__', '__ne__', '__new__', '__reduce__', '__reduce_ex__', '__repr__', '__setattr__', '__sizeof__', '__str__', '__subclasshook__', '__weakref__', 'hello', 'n1', 'rno']\n"
     ]
    }
   ],
   "source": [
    "print(dir(Hii))"
   ]
  },
  {
   "cell_type": "code",
   "execution_count": 10,
   "metadata": {},
   "outputs": [
    {
     "name": "stdout",
     "output_type": "stream",
     "text": [
      "abc\n"
     ]
    }
   ],
   "source": [
    "print(Hii . n1 )   # ' . ' is messsage calling operator"
   ]
  },
  {
   "cell_type": "code",
   "execution_count": 15,
   "metadata": {},
   "outputs": [
    {
     "name": "stdout",
     "output_type": "stream",
     "text": [
      "28\n"
     ]
    }
   ],
   "source": [
    "print(Hii.rno)"
   ]
  },
  {
   "cell_type": "code",
   "execution_count": 18,
   "metadata": {},
   "outputs": [
    {
     "name": "stdout",
     "output_type": "stream",
     "text": [
      "welcome all\n"
     ]
    }
   ],
   "source": [
    "Hii.hello()"
   ]
  },
  {
   "cell_type": "code",
   "execution_count": 48,
   "metadata": {},
   "outputs": [
    {
     "name": "stdout",
     "output_type": "stream",
     "text": [
      "['__class__', '__delattr__', '__dict__', '__dir__', '__doc__', '__eq__', '__format__', '__ge__', '__getattribute__', '__gt__', '__hash__', '__init__', '__init_subclass__', '__le__', '__lt__', '__module__', '__ne__', '__new__', '__reduce__', '__reduce_ex__', '__repr__', '__setattr__', '__sizeof__', '__str__', '__subclasshook__', '__weakref__', 'hello', 'n1', 'rno']\n"
     ]
    }
   ],
   "source": [
    "print(dir(Hii))"
   ]
  },
  {
   "cell_type": "code",
   "execution_count": 22,
   "metadata": {},
   "outputs": [],
   "source": [
    "#create student class\n",
    "class stu():\n",
    "    n=\"def\"\n",
    "    branch=\"civil\"\n",
    "    clg=\"gec\"\n",
    "    rno=28\n",
    "    email=\"def28@gmail.com\"\n",
    "    def hello():\n",
    "        print(\"welcome def\")"
   ]
  },
  {
   "cell_type": "code",
   "execution_count": 27,
   "metadata": {},
   "outputs": [
    {
     "name": "stdout",
     "output_type": "stream",
     "text": [
      "def\n",
      "28\n"
     ]
    }
   ],
   "source": [
    "print(stu.n)\n",
    "print(stu.rno)"
   ]
  },
  {
   "cell_type": "code",
   "execution_count": 25,
   "metadata": {},
   "outputs": [
    {
     "data": {
      "text/plain": [
       "'def28@gmail.com'"
      ]
     },
     "execution_count": 25,
     "metadata": {},
     "output_type": "execute_result"
    }
   ],
   "source": [
    "stu.email"
   ]
  },
  {
   "cell_type": "markdown",
   "metadata": {},
   "source": [
    "### Object\n",
    "* object is a instance of class.\n",
    "* every object will have certain attribute and behaviour\n",
    "* we define a class,it needs to create an object to allocte the memory."
   ]
  },
  {
   "cell_type": "code",
   "execution_count": 28,
   "metadata": {},
   "outputs": [],
   "source": [
    "#object creation\n",
    "# objectname=classname"
   ]
  },
  {
   "cell_type": "code",
   "execution_count": 29,
   "metadata": {},
   "outputs": [],
   "source": [
    "obj=stu"
   ]
  },
  {
   "cell_type": "code",
   "execution_count": 30,
   "metadata": {},
   "outputs": [
    {
     "name": "stdout",
     "output_type": "stream",
     "text": [
      "<class '__main__.stu'>\n"
     ]
    }
   ],
   "source": [
    "print(obj)"
   ]
  },
  {
   "cell_type": "code",
   "execution_count": 31,
   "metadata": {},
   "outputs": [
    {
     "name": "stdout",
     "output_type": "stream",
     "text": [
      "['__class__', '__delattr__', '__dict__', '__dir__', '__doc__', '__eq__', '__format__', '__ge__', '__getattribute__', '__gt__', '__hash__', '__init__', '__init_subclass__', '__le__', '__lt__', '__module__', '__ne__', '__new__', '__reduce__', '__reduce_ex__', '__repr__', '__setattr__', '__sizeof__', '__str__', '__subclasshook__', '__weakref__', 'branch', 'clg', 'email', 'hello', 'n', 'rno']\n"
     ]
    }
   ],
   "source": [
    "print(dir(obj))"
   ]
  },
  {
   "cell_type": "code",
   "execution_count": 32,
   "metadata": {},
   "outputs": [
    {
     "name": "stdout",
     "output_type": "stream",
     "text": [
      "gec\n"
     ]
    }
   ],
   "source": [
    "print(obj.clg)"
   ]
  },
  {
   "cell_type": "code",
   "execution_count": 47,
   "metadata": {},
   "outputs": [
    {
     "name": "stdout",
     "output_type": "stream",
     "text": [
      "addition = 39\n",
      "subtraction = 47\n",
      "multiplication = 1888\n",
      "division = 6.333333333333333\n"
     ]
    }
   ],
   "source": [
    "class Math():\n",
    "    #inside math class defining add(),sub(),mul() and div()\n",
    "    def add(a,b):\n",
    "        return a+b\n",
    "    def sub(a,b):\n",
    "        return a-b\n",
    "    def mul(a,b):\n",
    "        return a*b\n",
    "    def div(a,b):\n",
    "        return a/b\n",
    "#objectname=classname\n",
    "cal=Math\n",
    "print(\"addition =\",cal.add(12,27))\n",
    "print(\"subtraction =\",cal.sub(56,9))\n",
    "print(\"multiplication =\",cal.mul(59,32))\n",
    "print(\"division =\",cal.div(57,9))"
   ]
  },
  {
   "cell_type": "markdown",
   "metadata": {},
   "source": [
    "#### constructor\n",
    "* constructor is a special type method(function) which is used to initialize members of the class.\n",
    "* the main advantage of constructor without using object we will call function.\n",
    "* **creating the constructor in python**\n",
    "     * in python, the method __init__()this is the constructor of the class.\n",
    "     * It accepts the **self**--->keyword as a first argument.\n",
    "     * **syntax**\n",
    "         class class_name():\n",
    "             def __init__(self): # default parameter is self\n",
    "             \n",
    "             def __init__(self,a,b): #first variable acts default parameter\n",
    "             \n",
    "             def __init__(a,b,self) : # here a is default parameter"
   ]
  },
  {
   "cell_type": "code",
   "execution_count": 59,
   "metadata": {},
   "outputs": [],
   "source": [
    "class Math():  #class creation\n",
    "    def __init__(self,a,b,c):\n",
    "        self.a1=a\n",
    "        self.b1=b\n",
    "        self.c1=c\n",
    "    def display(self):\n",
    "        print(self.a1)\n",
    "        print(self.b1+self.c1)"
   ]
  },
  {
   "cell_type": "code",
   "execution_count": 67,
   "metadata": {},
   "outputs": [
    {
     "name": "stdout",
     "output_type": "stream",
     "text": [
      "3\n",
      "4\n"
     ]
    }
   ],
   "source": [
    "cal=Math(input(),input())"
   ]
  },
  {
   "cell_type": "code",
   "execution_count": 68,
   "metadata": {},
   "outputs": [
    {
     "name": "stdout",
     "output_type": "stream",
     "text": [
      "3\n",
      "4\n"
     ]
    }
   ],
   "source": [
    "cal.display()"
   ]
  },
  {
   "cell_type": "code",
   "execution_count": 62,
   "metadata": {},
   "outputs": [],
   "source": [
    "class Math():  #class creation\n",
    "    def __init__(a,b,self):\n",
    "        a.a1=b\n",
    "        a.b1=self\n",
    "        \n",
    "    def display(a):\n",
    "        print(a.a1)\n",
    "        print(a.b1)"
   ]
  },
  {
   "cell_type": "code",
   "execution_count": 64,
   "metadata": {},
   "outputs": [],
   "source": [
    "c=Math(2,5)"
   ]
  },
  {
   "cell_type": "code",
   "execution_count": 65,
   "metadata": {},
   "outputs": [
    {
     "name": "stdout",
     "output_type": "stream",
     "text": [
      "2\n",
      "5\n"
     ]
    }
   ],
   "source": [
    "c.display()"
   ]
  },
  {
   "cell_type": "code",
   "execution_count": 69,
   "metadata": {},
   "outputs": [],
   "source": [
    "#consider student details\n",
    "class Student():\n",
    "    def __init__(self,name,id):\n",
    "        self.name=name\n",
    "        self.id1=id\n",
    "    def display(self):\n",
    "        print(self.name,self.id1)"
   ]
  },
  {
   "cell_type": "code",
   "execution_count": 73,
   "metadata": {},
   "outputs": [
    {
     "name": "stdout",
     "output_type": "stream",
     "text": [
      "vidya\n",
      "28\n",
      "vidya 28\n"
     ]
    }
   ],
   "source": [
    "stu=Student(input(),input())\n",
    "stu.display()"
   ]
  },
  {
   "cell_type": "markdown",
   "metadata": {},
   "source": [
    "#### inheritance\n",
    "* inheritance ia an importance aspect of oops approach.\n",
    "* It provides code reusability to the programe.\n",
    "* **format**:\n",
    "        class childclass(parentclass):\n",
    "        \n",
    "* the new class is known as derived class or child class.\n",
    "\n",
    "* parent class/baseclass\n",
    "* **types of inheritance**\n",
    "    * single -level inheritance\n",
    "    * multilevel inheritance\n",
    "    * multiple inheritance\n",
    "    * Hierarchical inheritance\n",
    "    * Hybrid inheritance"
   ]
  },
  {
   "cell_type": "code",
   "execution_count": null,
   "metadata": {},
   "outputs": [],
   "source": []
  }
 ],
 "metadata": {
  "kernelspec": {
   "display_name": "Python 3",
   "language": "python",
   "name": "python3"
  },
  "language_info": {
   "codemirror_mode": {
    "name": "ipython",
    "version": 3
   },
   "file_extension": ".py",
   "mimetype": "text/x-python",
   "name": "python",
   "nbconvert_exporter": "python",
   "pygments_lexer": "ipython3",
   "version": "3.7.3"
  }
 },
 "nbformat": 4,
 "nbformat_minor": 2
}
