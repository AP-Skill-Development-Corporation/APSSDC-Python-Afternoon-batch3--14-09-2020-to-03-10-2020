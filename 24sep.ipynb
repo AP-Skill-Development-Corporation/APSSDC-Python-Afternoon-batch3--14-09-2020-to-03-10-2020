{
 "cells": [
  {
   "cell_type": "markdown",
   "metadata": {},
   "source": [
    "#### oops conti.....\n",
    "* **constructor**\n",
    "    * The constructor is a special type of method(function) which iss used to initialize members of the class\n",
    "    * In python,the method __init__() this is the constructor of the class.\n",
    "    * **self** --->keyword as a first argument\n",
    "    * **syntax**\n",
    "            class class_name():\n",
    "                def __init__(self): --->default parameter is self\n",
    "                \n",
    "                def __init__(self,a,b):----> #first variable acts as default parameter\n",
    "                \n",
    "                def __init__(a,b,self): ------>a is default parameter"
   ]
  },
  {
   "cell_type": "code",
   "execution_count": 1,
   "metadata": {},
   "outputs": [],
   "source": [
    "class math():\n",
    "    def __init__(a,b,self):\n",
    "        a.b=b\n",
    "        a.self=self\n",
    "    def display(a):\n",
    "        print(a.b,a.self)"
   ]
  },
  {
   "cell_type": "code",
   "execution_count": 3,
   "metadata": {},
   "outputs": [],
   "source": [
    "c=math(4,5)"
   ]
  },
  {
   "cell_type": "code",
   "execution_count": 4,
   "metadata": {},
   "outputs": [
    {
     "name": "stdout",
     "output_type": "stream",
     "text": [
      "4 5\n"
     ]
    }
   ],
   "source": [
    "c.display()"
   ]
  },
  {
   "cell_type": "markdown",
   "metadata": {},
   "source": [
    "#### inheritance\n",
    "* it provides code reusability\n",
    "* class childclass(parentclass):\n",
    "* **single-level inheritance** (one parent class and one child class)\n",
    "* **multilevel inheritance** (there is no fixed number of parent and child)\n",
    "        ex:grandfather---->father---->son---->\n",
    "* **multiple inheritance** (one child,multiple parent)\n",
    "* **heirachical inheritance** (single parent class and multiple child classes)\n",
    "* **hybrid inheritance** (collection of multilevel and multiple inheritance)"
   ]
  },
  {
   "cell_type": "code",
   "execution_count": 8,
   "metadata": {},
   "outputs": [
    {
     "name": "stdout",
     "output_type": "stream",
     "text": [
      "i am from classC\n",
      "i am from classB\n",
      "i am from classA\n"
     ]
    }
   ],
   "source": [
    "#multilevel inheritance\n",
    "class A:\n",
    "    def classA():\n",
    "        print(\"i am from classA\")\n",
    "class B(A):\n",
    "    def classB():\n",
    "        print(\"i am from classB\")\n",
    "class C(B):\n",
    "    def classC():\n",
    "        print(\"i am from classC\")\n",
    "obj=C\n",
    "obj.classC()\n",
    "obj.classB()\n",
    "obj.classA()"
   ]
  },
  {
   "cell_type": "code",
   "execution_count": 12,
   "metadata": {},
   "outputs": [
    {
     "name": "stdout",
     "output_type": "stream",
     "text": [
      "i am from classA\n",
      "i am from classB\n",
      "i am from classC\n",
      "i am from classD\n"
     ]
    }
   ],
   "source": [
    "#multiple inheritance\n",
    "class A:\n",
    "    def classA():\n",
    "        print(\"i am from classA\")\n",
    "class B:\n",
    "    def classB():\n",
    "        print(\"i am from classB\")\n",
    "class C:\n",
    "    def classC():\n",
    "        print(\"i am from classC\")\n",
    "class D(A,B,C):\n",
    "    def classD():\n",
    "        print(\"i am from classD\")\n",
    "obj=D\n",
    "obj.classA()\n",
    "obj.classB()\n",
    "obj.classC()\n",
    "obj.classD()"
   ]
  },
  {
   "cell_type": "code",
   "execution_count": 17,
   "metadata": {},
   "outputs": [
    {
     "name": "stdout",
     "output_type": "stream",
     "text": [
      "i am from classA\n",
      "i am from classA\n",
      "i am from classC\n",
      "i am from classB\n"
     ]
    }
   ],
   "source": [
    "#heirarchical inheritance\n",
    "class A:\n",
    "    def classA():\n",
    "        print(\"i am from classA\")\n",
    "class B(A):\n",
    "    def classB():\n",
    "        print(\"i am from classB\")\n",
    "class C(A):\n",
    "    def classC():\n",
    "        print(\"i am from classC\")\n",
    "obj=C\n",
    "obj1=B\n",
    "obj.classA()\n",
    "obj1.classA()\n",
    "obj.classC()\n",
    "obj1.classB()"
   ]
  },
  {
   "cell_type": "code",
   "execution_count": 20,
   "metadata": {},
   "outputs": [
    {
     "name": "stdout",
     "output_type": "stream",
     "text": [
      "i am from classE\n",
      "i am from classD\n",
      "i am from classC\n",
      "i am from classB\n",
      "i am from classA\n"
     ]
    }
   ],
   "source": [
    "#hybrid inheritance\n",
    "class A:\n",
    "    def classA():\n",
    "        print(\"i am from classA\")\n",
    "class B():\n",
    "    def classB():\n",
    "        print(\"i am from classB\")\n",
    "class C(A,B):\n",
    "    def classC():\n",
    "        print(\"i am from classC\")\n",
    "\n",
    "class D(C):\n",
    "    def classD():\n",
    "        print(\"i am from classD\")\n",
    "class E(D):\n",
    "    def classE():\n",
    "        print(\"i am from classE\")\n",
    "in1=E\n",
    "in1.classE()\n",
    "in1.classD()\n",
    "in1.classC()\n",
    "in1.classB()\n",
    "in1.classA()\n"
   ]
  },
  {
   "cell_type": "markdown",
   "metadata": {},
   "source": [
    "#### Pandas\n",
    "* pandas is opensource library that allows to perform data manipulation(Series,DataFrame)\n",
    "* Derived fro  PANel Data\n",
    "#### why we use pandas\n",
    "* to handle missing data\n",
    "* flexible way to merge,concatenate,reshap the data\n",
    "#### data structres\n",
    "* Series\n",
    "* DataFrame\n"
   ]
  },
  {
   "cell_type": "code",
   "execution_count": 23,
   "metadata": {},
   "outputs": [],
   "source": [
    "import pandas as pd"
   ]
  },
  {
   "cell_type": "markdown",
   "metadata": {},
   "source": [
    "#### Series\n",
    "* It is one dimensional data"
   ]
  },
  {
   "cell_type": "code",
   "execution_count": 38,
   "metadata": {},
   "outputs": [
    {
     "name": "stdout",
     "output_type": "stream",
     "text": [
      "1    2\n",
      "2    4\n",
      "3    6\n",
      "4    8\n",
      "dtype: int64\n"
     ]
    }
   ],
   "source": [
    "print(pd.Series([2,4,6,8],index=[1,2,3,4]))"
   ]
  },
  {
   "cell_type": "code",
   "execution_count": 40,
   "metadata": {},
   "outputs": [
    {
     "name": "stdout",
     "output_type": "stream",
     "text": [
      "a    [1, 3, 5, 7]\n",
      "b    [2, 4, 6, 8]\n",
      "dtype: object\n"
     ]
    }
   ],
   "source": [
    "print(pd.Series([[1,3,5,7],[2,4,6,8]],[\"a\",\"b\"]))"
   ]
  },
  {
   "cell_type": "code",
   "execution_count": 63,
   "metadata": {},
   "outputs": [],
   "source": [
    "d1=pd.Series(['vidya',28,'civil','gec',2],index=['a1','b1','c1','d1','e1'])"
   ]
  },
  {
   "cell_type": "code",
   "execution_count": 64,
   "metadata": {},
   "outputs": [
    {
     "data": {
      "text/plain": [
       "a1    vidya\n",
       "b1       28\n",
       "c1    civil\n",
       "d1      gec\n",
       "e1        2\n",
       "dtype: object"
      ]
     },
     "execution_count": 64,
     "metadata": {},
     "output_type": "execute_result"
    }
   ],
   "source": [
    "d1"
   ]
  },
  {
   "cell_type": "code",
   "execution_count": 65,
   "metadata": {},
   "outputs": [
    {
     "data": {
      "text/plain": [
       "a1    vidya\n",
       "b1       28\n",
       "c1    civil\n",
       "d1      gec\n",
       "e1        2\n",
       "dtype: object"
      ]
     },
     "execution_count": 65,
     "metadata": {},
     "output_type": "execute_result"
    }
   ],
   "source": [
    "d1[:]"
   ]
  },
  {
   "cell_type": "code",
   "execution_count": 66,
   "metadata": {},
   "outputs": [
    {
     "data": {
      "text/plain": [
       "a1    vidya\n",
       "b1       28\n",
       "c1    civil\n",
       "dtype: object"
      ]
     },
     "execution_count": 66,
     "metadata": {},
     "output_type": "execute_result"
    }
   ],
   "source": [
    "d1[0:3]"
   ]
  },
  {
   "cell_type": "code",
   "execution_count": 67,
   "metadata": {},
   "outputs": [
    {
     "data": {
      "text/plain": [
       "2"
      ]
     },
     "execution_count": 67,
     "metadata": {},
     "output_type": "execute_result"
    }
   ],
   "source": [
    "d1[4]"
   ]
  },
  {
   "cell_type": "code",
   "execution_count": 68,
   "metadata": {},
   "outputs": [
    {
     "data": {
      "text/plain": [
       "'civil'"
      ]
     },
     "execution_count": 68,
     "metadata": {},
     "output_type": "execute_result"
    }
   ],
   "source": [
    "d1[2]"
   ]
  },
  {
   "cell_type": "code",
   "execution_count": 69,
   "metadata": {},
   "outputs": [
    {
     "data": {
      "text/plain": [
       "28"
      ]
     },
     "execution_count": 69,
     "metadata": {},
     "output_type": "execute_result"
    }
   ],
   "source": [
    "d1['b1']"
   ]
  },
  {
   "cell_type": "code",
   "execution_count": 57,
   "metadata": {},
   "outputs": [
    {
     "data": {
      "text/plain": [
       "a1    vidya\n",
       "b1       28\n",
       "c1    civil\n",
       "dtype: object"
      ]
     },
     "execution_count": 57,
     "metadata": {},
     "output_type": "execute_result"
    }
   ],
   "source": [
    "d1['a1':'c1']"
   ]
  },
  {
   "cell_type": "code",
   "execution_count": null,
   "metadata": {},
   "outputs": [],
   "source": [
    "#list comprehension\n",
    "l=[i for i in range(1,10)]"
   ]
  }
 ],
 "metadata": {
  "kernelspec": {
   "display_name": "Python 3",
   "language": "python",
   "name": "python3"
  },
  "language_info": {
   "codemirror_mode": {
    "name": "ipython",
    "version": 3
   },
   "file_extension": ".py",
   "mimetype": "text/x-python",
   "name": "python",
   "nbconvert_exporter": "python",
   "pygments_lexer": "ipython3",
   "version": "3.7.3"
  }
 },
 "nbformat": 4,
 "nbformat_minor": 2
}
