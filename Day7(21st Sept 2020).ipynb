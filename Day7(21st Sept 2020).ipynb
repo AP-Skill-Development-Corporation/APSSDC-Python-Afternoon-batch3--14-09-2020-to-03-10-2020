{
 "cells": [
  {
   "cell_type": "code",
   "execution_count": null,
   "metadata": {},
   "outputs": [],
   "source": [
    "## Today Concepts\n",
    "- Functions"
   ]
  },
  {
   "cell_type": "code",
   "execution_count": 2,
   "metadata": {},
   "outputs": [],
   "source": [
    "# print the unique list of elements\n",
    "# read the string from user and print vowels separately\n",
    "# read n no.s from the user and perform summation operation\n",
    "    # 345 789 102 301-->sum of all these no.s"
   ]
  },
  {
   "cell_type": "markdown",
   "metadata": {},
   "source": [
    "### Function\n",
    "- A function is a set/block of statements executed to perform a perticular task\n",
    "- code reusability\n",
    "- simple to define\n",
    "- function definition\n",
    "    - the main logic comes here\n",
    "- function calling\n",
    "    - we can use the code/login\n",
    "- syntax:\n",
    "    - def function_name([args]):\n",
    "        - statements/code\n",
    "        - ends with return statement\n",
    "- types of functions:2\n",
    "    - pre-defined\n",
    "        - the functions were defined when the lang was developed\n",
    "        - we can simply call and use them require in the program\n",
    "    - user defined\n",
    "        - we/developer/user need to define the fun\n",
    "        - 4types:\n",
    "            - function with return statement and with arguments\n",
    "            - fun with return & without args\n",
    "            - fun without return & with args\n",
    "            - fun without return & without args"
   ]
  },
  {
   "cell_type": "code",
   "execution_count": 6,
   "metadata": {
    "collapsed": true
   },
   "outputs": [
    {
     "name": "stdout",
     "output_type": "stream",
     "text": [
      "10\n",
      "even\n"
     ]
    }
   ],
   "source": [
    "# check whether a given no.is even or odd\n",
    "num=int(input())\n",
    "if num%2==0:\n",
    "    print('even')\n",
    "else:print('odd')"
   ]
  },
  {
   "cell_type": "code",
   "execution_count": 10,
   "metadata": {},
   "outputs": [
    {
     "data": {
      "text/plain": [
       "True"
      ]
     },
     "execution_count": 10,
     "metadata": {},
     "output_type": "execute_result"
    }
   ],
   "source": [
    "# using function\n",
    "def is_even(n):\n",
    "    if n%2==0:\n",
    "        return True\n",
    "    else:return False\n",
    "\n",
    "is_even(10)# function call"
   ]
  },
  {
   "cell_type": "code",
   "execution_count": 9,
   "metadata": {},
   "outputs": [
    {
     "name": "stdout",
     "output_type": "stream",
     "text": [
      "5\n"
     ]
    },
    {
     "data": {
      "text/plain": [
       "False"
      ]
     },
     "execution_count": 9,
     "metadata": {},
     "output_type": "execute_result"
    }
   ],
   "source": [
    "is_even(int(input())) # calling function"
   ]
  },
  {
   "cell_type": "code",
   "execution_count": 11,
   "metadata": {},
   "outputs": [
    {
     "data": {
      "text/plain": [
       "8"
      ]
     },
     "execution_count": 11,
     "metadata": {},
     "output_type": "execute_result"
    }
   ],
   "source": [
    "#input()-used to read str type of data from the user\n",
    "int('8')"
   ]
  },
  {
   "cell_type": "code",
   "execution_count": 12,
   "metadata": {},
   "outputs": [
    {
     "data": {
      "text/plain": [
       "str"
      ]
     },
     "execution_count": 12,
     "metadata": {},
     "output_type": "execute_result"
    }
   ],
   "source": [
    "type('7')"
   ]
  },
  {
   "cell_type": "code",
   "execution_count": 13,
   "metadata": {},
   "outputs": [
    {
     "data": {
      "text/plain": [
       "20"
      ]
     },
     "execution_count": 13,
     "metadata": {},
     "output_type": "execute_result"
    }
   ],
   "source": [
    "sum([9,5,6])"
   ]
  },
  {
   "cell_type": "code",
   "execution_count": 14,
   "metadata": {},
   "outputs": [
    {
     "data": {
      "text/plain": [
       "11"
      ]
     },
     "execution_count": 14,
     "metadata": {},
     "output_type": "execute_result"
    }
   ],
   "source": [
    "# 4types of user defined functions\n",
    "# fun with args & with return statement\n",
    "# function to add 2 no.s\n",
    "# sum of x & y using functions\n",
    "def add(x,y): #formal parameters\n",
    "    return x+y\n",
    "\n",
    "add(5,6) # actual parameters/values"
   ]
  },
  {
   "cell_type": "code",
   "execution_count": 16,
   "metadata": {},
   "outputs": [
    {
     "name": "stdout",
     "output_type": "stream",
     "text": [
      "8\n"
     ]
    },
    {
     "data": {
      "text/plain": [
       "18"
      ]
     },
     "execution_count": 16,
     "metadata": {},
     "output_type": "execute_result"
    }
   ],
   "source": [
    "add(int(input()),10)"
   ]
  },
  {
   "cell_type": "code",
   "execution_count": 17,
   "metadata": {},
   "outputs": [
    {
     "name": "stdout",
     "output_type": "stream",
     "text": [
      "4\n",
      "19\n",
      "sum= 23\n"
     ]
    }
   ],
   "source": [
    "# with args & without return\n",
    "def add2(num,num2):\n",
    "    print('sum=',num+num2)\n",
    "    \n",
    "num,num2=int(input()),int(input())\n",
    "add2(num,num2)\n",
    "    "
   ]
  },
  {
   "cell_type": "code",
   "execution_count": 18,
   "metadata": {},
   "outputs": [
    {
     "data": {
      "text/plain": [
       "70"
      ]
     },
     "execution_count": 18,
     "metadata": {},
     "output_type": "execute_result"
    }
   ],
   "source": [
    "# fun without args & with return\n",
    "a,b=10,60\n",
    "def add3():\n",
    "    return a+b\n",
    "add3()"
   ]
  },
  {
   "cell_type": "code",
   "execution_count": 19,
   "metadata": {},
   "outputs": [
    {
     "name": "stdout",
     "output_type": "stream",
     "text": [
      "9\n",
      "product: 72\n"
     ]
    }
   ],
   "source": [
    "# func without args & without return\n",
    "def multiply():\n",
    "    print('product:',x*y)\n",
    "x,y=int(input()),8    \n",
    "multiply()"
   ]
  },
  {
   "cell_type": "code",
   "execution_count": 20,
   "metadata": {},
   "outputs": [
    {
     "data": {
      "text/plain": [
       "100"
      ]
     },
     "execution_count": 20,
     "metadata": {},
     "output_type": "execute_result"
    }
   ],
   "source": [
    "def add(f,s):\n",
    "    return f+s # will return the value/result to the interpreter"
   ]
  },
  {
   "cell_type": "code",
   "execution_count": 21,
   "metadata": {},
   "outputs": [
    {
     "name": "stdout",
     "output_type": "stream",
     "text": [
      "100\n"
     ]
    }
   ],
   "source": [
    "print(90+10)# printing the value"
   ]
  },
  {
   "cell_type": "code",
   "execution_count": 22,
   "metadata": {},
   "outputs": [
    {
     "data": {
      "text/plain": [
       "60"
      ]
     },
     "execution_count": 22,
     "metadata": {},
     "output_type": "execute_result"
    }
   ],
   "source": [
    "40+20 # returning the value"
   ]
  },
  {
   "cell_type": "code",
   "execution_count": 24,
   "metadata": {
    "collapsed": true
   },
   "outputs": [
    {
     "name": "stdout",
     "output_type": "stream",
     "text": [
      "10\n",
      "80\n",
      "11 13 15 17 19 21 23 25 27 29 31 33 35 37 39 41 43 45 47 49 51 53 55 57 59 61 63 65 67 69 71 73 75 77 79 "
     ]
    }
   ],
   "source": [
    "# print the odd no.s present in the user defined range\n",
    "lw,up=int(input()),int(input())\n",
    "for num in range(lw,up+1):\n",
    "    if num%2==1:\n",
    "        print(num,end=\" \")"
   ]
  },
  {
   "cell_type": "code",
   "execution_count": 25,
   "metadata": {},
   "outputs": [
    {
     "data": {
      "text/plain": [
       "False"
      ]
     },
     "execution_count": 25,
     "metadata": {},
     "output_type": "execute_result"
    }
   ],
   "source": [
    "def is_odd(n):\n",
    "    if n%2==1:\n",
    "        return True\n",
    "    else:return False\n",
    "    \n",
    "is_odd(10)"
   ]
  },
  {
   "cell_type": "code",
   "execution_count": 26,
   "metadata": {},
   "outputs": [
    {
     "data": {
      "text/plain": [
       "True"
      ]
     },
     "execution_count": 26,
     "metadata": {},
     "output_type": "execute_result"
    }
   ],
   "source": [
    "is_odd(9)"
   ]
  },
  {
   "cell_type": "code",
   "execution_count": 28,
   "metadata": {
    "collapsed": true
   },
   "outputs": [
    {
     "name": "stdout",
     "output_type": "stream",
     "text": [
      "11 13 15 17 19 21 23 25 27 29 31 33 35 37 39 41 43 45 47 49 51 53 55 57 59 61 63 65 67 69 71 73 75 77 79 81 83 85 87 89 91 93 95 97 99 101 103 105 107 109 111 113 115 117 119 121 123 125 127 129 131 133 135 137 139 141 143 145 147 149 151 153 155 157 159 161 163 165 167 169 171 173 175 177 179 181 183 185 187 189 191 193 195 197 199 201 203 205 207 209 211 213 215 217 219 221 223 225 227 229 231 233 235 237 239 241 243 245 247 249 251 253 255 257 259 261 263 265 267 269 271 273 275 277 279 281 283 285 287 289 291 293 295 297 299 301 303 305 307 309 311 313 315 317 319 321 323 325 327 329 331 333 335 337 339 341 343 345 347 349 351 353 355 357 359 361 363 365 367 369 371 373 375 377 379 381 383 385 387 389 391 393 395 397 399 "
     ]
    }
   ],
   "source": [
    "for num in range(10,400):\n",
    "    if is_odd(num):\n",
    "        print(num,end=\" \")"
   ]
  },
  {
   "cell_type": "code",
   "execution_count": 35,
   "metadata": {
    "collapsed": true
   },
   "outputs": [
    {
     "name": "stdout",
     "output_type": "stream",
     "text": [
      "28\n",
      " 2 is a Prime Factor of a Given Number 28\n",
      " 7 is a Prime Factor of a Given Number 28\n"
     ]
    }
   ],
   "source": [
    "# print the prime factors for a given no.\n",
    "# 30-->1,2,3,5,10,15,30=2,3,5\n",
    "# factors-->prime\n",
    "Num = int(input())\n",
    "for i in range(2, Num + 1): \n",
    "    if(Num % i == 0): \n",
    "        isprime = 1  # factor \n",
    "        for j in range(2, (i //2 + 1)):\n",
    "            if(i % j == 0): \n",
    "                isprime = 0  #prime \n",
    "                break \n",
    "                    \n",
    "        if (isprime == 1): \n",
    "            print(\" %d is a Prime Factor of a Given Number %d\" %(i, Num))"
   ]
  },
  {
   "cell_type": "code",
   "execution_count": 36,
   "metadata": {
    "collapsed": true
   },
   "outputs": [
    {
     "ename": "SyntaxError",
     "evalue": "EOL while scanning string literal (<ipython-input-36-6766262ec378>, line 2)",
     "output_type": "error",
     "traceback": [
      "\u001b[1;36m  File \u001b[1;32m\"<ipython-input-36-6766262ec378>\"\u001b[1;36m, line \u001b[1;32m2\u001b[0m\n\u001b[1;33m    Print (\"the factor of 'x')\u001b[0m\n\u001b[1;37m                              ^\u001b[0m\n\u001b[1;31mSyntaxError\u001b[0m\u001b[1;31m:\u001b[0m EOL while scanning string literal\n"
     ]
    }
   ],
   "source": [
    "def print_factor(x):\n",
    "    Print (\"the factor of 'x')\n",
    "    for i in range(1,x+1):\n",
    "        if x%i == 0;\n",
    "        print(i)\n",
    "Num=30 \n",
    "Print factor( Num)\n"
   ]
  },
  {
   "cell_type": "code",
   "execution_count": 38,
   "metadata": {
    "collapsed": true
   },
   "outputs": [
    {
     "name": "stdout",
     "output_type": "stream",
     "text": [
      "20\n",
      "2 3 5 6 7 8 9 "
     ]
    }
   ],
   "source": [
    "num=int(input())\n",
    "for each in range(1,num+1):\n",
    "    if num%each==0:\n",
    "        #print(each,end=\" \") # all factors\n",
    "        factors=0\n",
    "        for num2 in range(1,each+1):\n",
    "            if each%num2==0:\n",
    "                factors+=1\n",
    "    if factors==2:\n",
    "        print(each,end=' ')"
   ]
  },
  {
   "cell_type": "code",
   "execution_count": 41,
   "metadata": {},
   "outputs": [
    {
     "data": {
      "text/plain": [
       "False"
      ]
     },
     "execution_count": 41,
     "metadata": {},
     "output_type": "execute_result"
    }
   ],
   "source": [
    "def is_prime(n):\n",
    "    count=0\n",
    "    for num in range(1,n//2+1):\n",
    "        if n%num==0:\n",
    "            count+=1\n",
    "    if count==1:\n",
    "        return True\n",
    "    else:return False\n",
    "\n",
    "is_prime(10)"
   ]
  },
  {
   "cell_type": "code",
   "execution_count": 42,
   "metadata": {},
   "outputs": [
    {
     "data": {
      "text/plain": [
       "True"
      ]
     },
     "execution_count": 42,
     "metadata": {},
     "output_type": "execute_result"
    }
   ],
   "source": [
    "is_prime(11)"
   ]
  },
  {
   "cell_type": "code",
   "execution_count": 43,
   "metadata": {},
   "outputs": [
    {
     "data": {
      "text/plain": [
       "True"
      ]
     },
     "execution_count": 43,
     "metadata": {},
     "output_type": "execute_result"
    }
   ],
   "source": [
    "is_prime(13)"
   ]
  },
  {
   "cell_type": "code",
   "execution_count": 44,
   "metadata": {},
   "outputs": [
    {
     "name": "stdout",
     "output_type": "stream",
     "text": [
      "20\n",
      "2 5 "
     ]
    }
   ],
   "source": [
    "def is_prime(n):\n",
    "    count=0\n",
    "    for num in range(1,n//2+1):\n",
    "        if n%num==0:\n",
    "            count+=1\n",
    "    if count==1:\n",
    "        return True\n",
    "    else:return False\n",
    "\n",
    "#is_prime(10)\n",
    "num=int(input())\n",
    "for dig in range(1,num):\n",
    "    if num%dig==0: # factors \n",
    "        if is_prime(dig):\n",
    "            print(dig,end=\" \")"
   ]
  },
  {
   "cell_type": "code",
   "execution_count": 45,
   "metadata": {
    "collapsed": true
   },
   "outputs": [
    {
     "ename": "SyntaxError",
     "evalue": "invalid syntax (<ipython-input-45-9c1c8e70d3ed>, line 1)",
     "output_type": "error",
     "traceback": [
      "\u001b[1;36m  File \u001b[1;32m\"<ipython-input-45-9c1c8e70d3ed>\"\u001b[1;36m, line \u001b[1;32m1\u001b[0m\n\u001b[1;33m    20-->1,2,4,5,10-->2,5\u001b[0m\n\u001b[1;37m        ^\u001b[0m\n\u001b[1;31mSyntaxError\u001b[0m\u001b[1;31m:\u001b[0m invalid syntax\n"
     ]
    }
   ],
   "source": [
    "20-->1,2,4,5,10-->2,5\n",
    "# 1 to 5=2 or 1 to 5/2-->1"
   ]
  },
  {
   "cell_type": "code",
   "execution_count": 73,
   "metadata": {},
   "outputs": [
    {
     "data": {
      "text/plain": [
       "'hey'"
      ]
     },
     "execution_count": 73,
     "metadata": {},
     "output_type": "execute_result"
    }
   ],
   "source": [
    "# find the minimum no. among 3 or 4 *i/ps\n",
    "def shortest(*persons): # only one arg * represents the many\n",
    "    '''return persons[1] \n",
    "    for word in persons:\n",
    "        print(len(word),end=\" \") '''\n",
    "    mn=len(persons[0])\n",
    "    for word in persons:\n",
    "        if len(word)<mn:\n",
    "            mn=len(word)\n",
    "    #return word\n",
    "    #return mn\n",
    "shortest('ruthu','kid','language','python','hey')"
   ]
  },
  {
   "cell_type": "code",
   "execution_count": 48,
   "metadata": {},
   "outputs": [
    {
     "data": {
      "text/plain": [
       "4"
      ]
     },
     "execution_count": 48,
     "metadata": {},
     "output_type": "execute_result"
    }
   ],
   "source": [
    "min([4,5,10])"
   ]
  },
  {
   "cell_type": "code",
   "execution_count": 50,
   "metadata": {},
   "outputs": [
    {
     "data": {
      "text/plain": [
       "2"
      ]
     },
     "execution_count": 50,
     "metadata": {},
     "output_type": "execute_result"
    }
   ],
   "source": [
    "len('hi')"
   ]
  },
  {
   "cell_type": "code",
   "execution_count": 51,
   "metadata": {},
   "outputs": [
    {
     "data": {
      "text/plain": [
       "6"
      ]
     },
     "execution_count": 51,
     "metadata": {},
     "output_type": "execute_result"
    }
   ],
   "source": [
    "len('python')"
   ]
  },
  {
   "cell_type": "code",
   "execution_count": 61,
   "metadata": {},
   "outputs": [
    {
     "data": {
      "text/plain": [
       "1"
      ]
     },
     "execution_count": 61,
     "metadata": {},
     "output_type": "execute_result"
    }
   ],
   "source": [
    "li=[4,6,1,3]\n",
    "mn=li[0]\n",
    "for num in li:\n",
    "    if num<mn:\n",
    "        mn=num\n",
    "mn\n",
    "    "
   ]
  },
  {
   "cell_type": "code",
   "execution_count": 56,
   "metadata": {},
   "outputs": [
    {
     "data": {
      "text/plain": [
       "1"
      ]
     },
     "execution_count": 56,
     "metadata": {},
     "output_type": "execute_result"
    }
   ],
   "source": [
    "min(li)"
   ]
  },
  {
   "cell_type": "code",
   "execution_count": 62,
   "metadata": {},
   "outputs": [
    {
     "data": {
      "text/plain": [
       "'hello'"
      ]
     },
     "execution_count": 62,
     "metadata": {},
     "output_type": "execute_result"
    }
   ],
   "source": [
    "min(['kamala','hi','hello','python'])"
   ]
  },
  {
   "cell_type": "code",
   "execution_count": 74,
   "metadata": {
    "collapsed": true
   },
   "outputs": [
    {
     "ename": "SyntaxError",
     "evalue": "invalid syntax (<ipython-input-74-82ec4ccb93b9>, line 7)",
     "output_type": "error",
     "traceback": [
      "\u001b[1;36m  File \u001b[1;32m\"<ipython-input-74-82ec4ccb93b9>\"\u001b[1;36m, line \u001b[1;32m7\u001b[0m\n\u001b[1;33m    idly Rs.20/-\u001b[0m\n\u001b[1;37m          ^\u001b[0m\n\u001b[1;31mSyntaxError\u001b[0m\u001b[1;31m:\u001b[0m invalid syntax\n"
     ]
    }
   ],
   "source": [
    "# we can develop realtime applications using functions\n",
    "# count the no.of occurences of word/char in string\n",
    "# functions/ditionary\n",
    "# write a program to print menu card\n",
    "# items:cost\n",
    "# pay the bill\n",
    "idly Rs.20/-\n",
    "Dosa Rs,25/-\n",
    "noodles 50/-\n",
    "...\n",
    "Dosa & idly=45/-"
   ]
  },
  {
   "cell_type": "code",
   "execution_count": null,
   "metadata": {},
   "outputs": [],
   "source": [
    "menu={'Idly':20,'Dosa':25,'Chapati':25,'Tea':10,'Coffee':15,'Noodles':45,'Roti':25,\n",
    "      'Fried Rice':50,'Any Cool Drink':20}\n",
    "print('Items Available...')\n",
    "for item,price in menu.items():\n",
    "    print(item,'Rs.',price,'/-')\n",
    "bill=0\n",
    "order=input('Give your order:').split(',')\n",
    "for item in order:\n",
    "    if item in menu:\n",
    "        bill+=menu[item]\n",
    "    else:\n",
    "        print('Sorry!',item,'not available')\n",
    "print('Your bill=',bill)"
   ]
  },
  {
   "cell_type": "code",
   "execution_count": 76,
   "metadata": {},
   "outputs": [
    {
     "name": "stdout",
     "output_type": "stream",
     "text": [
      "45\n"
     ]
    }
   ],
   "source": [
    "Details={'idily':20,'dosa':25,'noodles':50}\n",
    "a=Details['idily']\n",
    "b=Details['dosa']\n",
    "print(a+b)\n"
   ]
  },
  {
   "cell_type": "code",
   "execution_count": 78,
   "metadata": {
    "collapsed": true
   },
   "outputs": [
    {
     "ename": "NameError",
     "evalue": "name 'Foods' is not defined",
     "output_type": "error",
     "traceback": [
      "\u001b[1;31m---------------------------------------------------------------------------\u001b[0m",
      "\u001b[1;31mNameError\u001b[0m                                 Traceback (most recent call last)",
      "\u001b[1;32m<ipython-input-78-3eb6478159af>\u001b[0m in \u001b[0;36m<module>\u001b[1;34m\u001b[0m\n\u001b[0;32m     12\u001b[0m \u001b[1;33m\u001b[0m\u001b[0m\n\u001b[0;32m     13\u001b[0m \u001b[1;33m\u001b[0m\u001b[0m\n\u001b[1;32m---> 14\u001b[1;33m \u001b[0mFoods\u001b[0m \u001b[1;33m=\u001b[0m \u001b[0mmenucard\u001b[0m\u001b[1;33m(\u001b[0m\u001b[0mnames\u001b[0m\u001b[1;33m,\u001b[0m \u001b[0mcosts\u001b[0m\u001b[1;33m)\u001b[0m\u001b[1;33m\u001b[0m\u001b[1;33m\u001b[0m\u001b[0m\n\u001b[0m",
      "\u001b[1;32m<ipython-input-78-3eb6478159af>\u001b[0m in \u001b[0;36mmenucard\u001b[1;34m(names, costs)\u001b[0m\n\u001b[0;32m      2\u001b[0m     \u001b[0mmenu\u001b[0m \u001b[1;33m=\u001b[0m \u001b[1;33m[\u001b[0m\u001b[1;33m]\u001b[0m\u001b[1;33m\u001b[0m\u001b[1;33m\u001b[0m\u001b[0m\n\u001b[0;32m      3\u001b[0m     \u001b[1;32mfor\u001b[0m \u001b[0mi\u001b[0m \u001b[1;32min\u001b[0m \u001b[0mrange\u001b[0m\u001b[1;33m(\u001b[0m\u001b[0mlen\u001b[0m\u001b[1;33m(\u001b[0m\u001b[0mnames\u001b[0m\u001b[1;33m)\u001b[0m\u001b[1;33m)\u001b[0m\u001b[1;33m:\u001b[0m\u001b[1;33m\u001b[0m\u001b[1;33m\u001b[0m\u001b[0m\n\u001b[1;32m----> 4\u001b[1;33m         \u001b[0mmenu\u001b[0m\u001b[1;33m.\u001b[0m\u001b[0mappend\u001b[0m\u001b[1;33m(\u001b[0m\u001b[0mFoods\u001b[0m\u001b[1;33m(\u001b[0m\u001b[0mnames\u001b[0m\u001b[1;33m[\u001b[0m\u001b[0mi\u001b[0m\u001b[1;33m]\u001b[0m\u001b[1;33m,\u001b[0m \u001b[0mcosts\u001b[0m\u001b[1;33m[\u001b[0m\u001b[0mi\u001b[0m\u001b[1;33m]\u001b[0m\u001b[1;33m)\u001b[0m\u001b[1;33m)\u001b[0m\u001b[1;33m\u001b[0m\u001b[1;33m\u001b[0m\u001b[0m\n\u001b[0m\u001b[0;32m      5\u001b[0m     \u001b[1;32mreturn\u001b[0m \u001b[0mmenu\u001b[0m\u001b[1;33m\u001b[0m\u001b[1;33m\u001b[0m\u001b[0m\n\u001b[0;32m      6\u001b[0m \u001b[1;33m\u001b[0m\u001b[0m\n",
      "\u001b[1;31mNameError\u001b[0m: name 'Foods' is not defined"
     ]
    }
   ],
   "source": [
    "def menucard(names, costs):\n",
    "    menu = []\n",
    "    for i in range(len(names)):\n",
    "        menu.append(Foods(names[i], costs[i]))\n",
    "    return menu\n",
    "\n",
    "\n",
    "names = ['Coffee', 'Tea', 'Pizza', 'Burger', 'Fries', 'Apple', 'Donut', 'Cake']\n",
    "\n",
    "\n",
    "costs = [250, 150, 180, 70, 65, 55, 120, 350]\n",
    "\n",
    "\n",
    "Foods = menucard(names, costs)\n"
   ]
  },
  {
   "cell_type": "code",
   "execution_count": 83,
   "metadata": {},
   "outputs": [
    {
     "data": {
      "text/plain": [
       "[4, 6, 1, 3]"
      ]
     },
     "execution_count": 83,
     "metadata": {},
     "output_type": "execute_result"
    }
   ],
   "source": [
    "li"
   ]
  },
  {
   "cell_type": "code",
   "execution_count": 84,
   "metadata": {},
   "outputs": [
    {
     "data": {
      "text/plain": [
       "1"
      ]
     },
     "execution_count": 84,
     "metadata": {},
     "output_type": "execute_result"
    }
   ],
   "source": [
    "li[2] # index"
   ]
  },
  {
   "cell_type": "code",
   "execution_count": 85,
   "metadata": {},
   "outputs": [
    {
     "data": {
      "text/plain": [
       "20"
      ]
     },
     "execution_count": 85,
     "metadata": {},
     "output_type": "execute_result"
    }
   ],
   "source": [
    "menu['Idly'] # dic[key]=value"
   ]
  },
  {
   "cell_type": "code",
   "execution_count": 88,
   "metadata": {},
   "outputs": [
    {
     "data": {
      "text/plain": [
       "['ruthu is ', ' python tr', 'iner']"
      ]
     },
     "execution_count": 88,
     "metadata": {},
     "output_type": "execute_result"
    }
   ],
   "source": [
    "'ruthu is a python trainer'.split('a')"
   ]
  },
  {
   "cell_type": "code",
   "execution_count": 91,
   "metadata": {},
   "outputs": [],
   "source": [
    "# Develop a contact application\n",
    "# "
   ]
  },
  {
   "cell_type": "code",
   "execution_count": 5,
   "metadata": {},
   "outputs": [
    {
     "name": "stdout",
     "output_type": "stream",
     "text": [
      "10\n",
      "90\n",
      "34\n",
      "10 is smaller\n"
     ]
    }
   ],
   "source": [
    "f,s,th=int(input()),int(input()),int(input())\n",
    "if f<s and f<th:\n",
    "    print(f,'is smaller')\n",
    "elif s<f and s<th:\n",
    "    print('second is smaller')\n",
    "else:\n",
    "    print('third is smaller')"
   ]
  },
  {
   "cell_type": "code",
   "execution_count": null,
   "metadata": {},
   "outputs": [],
   "source": []
  }
 ],
 "metadata": {
  "kernelspec": {
   "display_name": "Python 3",
   "language": "python",
   "name": "python3"
  },
  "language_info": {
   "codemirror_mode": {
    "name": "ipython",
    "version": 3
   },
   "file_extension": ".py",
   "mimetype": "text/x-python",
   "name": "python",
   "nbconvert_exporter": "python",
   "pygments_lexer": "ipython3",
   "version": "3.7.6"
  }
 },
 "nbformat": 4,
 "nbformat_minor": 4
}
