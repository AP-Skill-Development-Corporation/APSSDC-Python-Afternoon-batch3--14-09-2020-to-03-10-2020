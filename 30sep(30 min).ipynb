{
 "cells": [
  {
   "cell_type": "code",
   "execution_count": 11,
   "metadata": {},
   "outputs": [
    {
     "name": "stdout",
     "output_type": "stream",
     "text": [
      "python progrmming\n",
      "p.progrmming\n"
     ]
    }
   ],
   "source": [
    "#i/p: python progrmming\n",
    "#o/p: p.progrmming\n",
    "s=input()\n",
    "s1=s.split()\n",
    "print(s1[0][0],\".\",s1[1],sep=\"\")"
   ]
  },
  {
   "cell_type": "code",
   "execution_count": null,
   "metadata": {},
   "outputs": [],
   "source": [
    "#to print given pattern\n",
    "*\n",
    "* *\n",
    "* * *\n",
    "* * * *\n",
    "* * * * *\n",
    "* * * *\n",
    "* * *\n",
    "* *\n",
    "*"
   ]
  },
  {
   "cell_type": "code",
   "execution_count": 22,
   "metadata": {},
   "outputs": [
    {
     "name": "stdout",
     "output_type": "stream",
     "text": [
      "* \n",
      "* * \n",
      "* * * \n",
      "* * * * \n",
      "* * * * * \n",
      "* * * * \n",
      "* * * \n",
      "* * \n",
      "* \n"
     ]
    }
   ],
   "source": [
    "str1=\"\"\n",
    "for i in range(0,9):\n",
    "    if i<5:\n",
    "        str1+=\"* \"\n",
    "        print(str1)\n",
    "    elif i>4:\n",
    "        str1=str1[:-2]\n",
    "        print(str1)"
   ]
  },
  {
   "cell_type": "code",
   "execution_count": 26,
   "metadata": {},
   "outputs": [
    {
     "name": "stdout",
     "output_type": "stream",
     "text": [
      "programming\n",
      "{'p': 1, 'r': 2, 'o': 1, 'g': 2, 'a': 1, 'm': 2, 'i': 1, 'n': 1}\n"
     ]
    }
   ],
   "source": [
    "# i/p: programming\n",
    "# o/p: {'p':1,'a':1,'r':2}\n",
    "s=input()\n",
    "b={}\n",
    "for i in s:\n",
    "    a=s.count(i)\n",
    "    b[i]=a\n",
    "print(b)"
   ]
  },
  {
   "cell_type": "code",
   "execution_count": 36,
   "metadata": {},
   "outputs": [
    {
     "name": "stdout",
     "output_type": "stream",
     "text": [
      "[4, 27, 256, 3125, 46656, 823543, 16777216, 387420489, 4]\n",
      "(4, 27, 256, 3125, 46656, 823543, 16777216, 387420489, 4)\n",
      "7\n",
      "2\n"
     ]
    }
   ],
   "source": [
    "t=(2,3,4,5,6,7,8,9,2)\n",
    "m=[]\n",
    "for i in t:\n",
    "    m.append(i**i)\n",
    "print(m)\n",
    "#convert tuple\n",
    "m1=tuple(m)\n",
    "print(m1)\n",
    "print(m1.index(max(m1)))\n",
    "print(m1.count(min(m1)))"
   ]
  },
  {
   "cell_type": "code",
   "execution_count": null,
   "metadata": {},
   "outputs": [],
   "source": [
    "num=int(input(\"enter number of rows:\"))\n",
    "for i in range(0,num):\n",
    "    for j in range(0,num-i-1):\n",
    "        print(end=\"\")\n",
    "        for j in range(0,i+1):\n",
    "            print(\"*\",end=\"\")\n",
    "            print()"
   ]
  }
 ],
 "metadata": {
  "kernelspec": {
   "display_name": "Python 3",
   "language": "python",
   "name": "python3"
  },
  "language_info": {
   "codemirror_mode": {
    "name": "ipython",
    "version": 3
   },
   "file_extension": ".py",
   "mimetype": "text/x-python",
   "name": "python",
   "nbconvert_exporter": "python",
   "pygments_lexer": "ipython3",
   "version": "3.7.3"
  }
 },
 "nbformat": 4,
 "nbformat_minor": 2
}
